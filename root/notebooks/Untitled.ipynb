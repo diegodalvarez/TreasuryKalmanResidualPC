{
 "cells": [
  {
   "cell_type": "markdown",
   "id": "46b97038-a6df-4769-8267-d98adfc0a5bd",
   "metadata": {},
   "source": [
    "# Principal Component Analysis Kalman Residual Z-Score Strategy"
   ]
  },
  {
   "cell_type": "markdown",
   "id": "6d3f9799-3bbf-45dd-b71c-1d263df9f321",
   "metadata": {},
   "source": [
    "## Packages"
   ]
  },
  {
   "cell_type": "code",
   "execution_count": 20,
   "id": "42a77078-3179-4fd5-b720-bab31586a478",
   "metadata": {},
   "outputs": [],
   "source": [
    "import os\n",
    "import numpy as np\n",
    "import pandas as pd\n",
    "import seaborn as sns\n",
    "import matplotlib.pyplot as plt"
   ]
  },
  {
   "cell_type": "code",
   "execution_count": 3,
   "id": "b1355fd6-a474-4228-821a-f490fcfd3369",
   "metadata": {},
   "outputs": [],
   "source": [
    "import sys\n",
    "sys.path.append(r\"/Users/diegoalvarez/Desktop/research/TreasuryKalmanResidualPC/root/src\")\n",
    "from Backtest import Backtest"
   ]
  }
 ],
 "metadata": {
  "kernelspec": {
   "display_name": "Python 3 (ipykernel)",
   "language": "python",
   "name": "python3"
  },
  "language_info": {
   "codemirror_mode": {
    "name": "ipython",
    "version": 3
   },
   "file_extension": ".py",
   "mimetype": "text/x-python",
   "name": "python",
   "nbconvert_exporter": "python",
   "pygments_lexer": "ipython3",
   "version": "3.12.7"
  }
 },
 "nbformat": 4,
 "nbformat_minor": 5
}
